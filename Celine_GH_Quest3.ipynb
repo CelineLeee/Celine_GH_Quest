{
 "cells": [
  {
   "cell_type": "code",
   "execution_count": 9,
   "metadata": {},
   "outputs": [],
   "source": [
    "import scipy.optimize as op\n",
    "import matplotlib.pyplot as plt\n",
    "import numpy as np"
   ]
  },
  {
   "cell_type": "code",
   "execution_count": 10,
   "metadata": {},
   "outputs": [],
   "source": [
    "def f2(x): \n",
    "    return (1-x[0])**2 + 100*(x[1]-x[0]**2)**2\n"
   ]
  },
  {
   "cell_type": "code",
   "execution_count": 11,
   "metadata": {},
   "outputs": [
    {
     "data": {
      "text/plain": [
       "      fun: 1.2745543563322333e-11\n",
       " hess_inv: array([[0.51801678, 1.0375842 ],\n",
       "       [1.0375842 , 2.0833996 ]])\n",
       "      jac: array([-2.66226461e-05,  1.42767682e-05])\n",
       "  message: 'Desired error not necessarily achieved due to precision loss.'\n",
       "     nfev: 424\n",
       "      nit: 21\n",
       "     njev: 103\n",
       "   status: 2\n",
       "  success: False\n",
       "        x: array([0.99999649, 0.99999304])"
      ]
     },
     "execution_count": 11,
     "metadata": {},
     "output_type": "execute_result"
    }
   ],
   "source": [
    "initial_guess = (1,2) \n",
    "result = op.minimize(f2,initial_guess) \n",
    "result\n",
    "\n",
    "#따라서, 비용함수를 최소화하는 parameter 값은 x = (0.99999649, 0.99999304), 즉 x = (1,1)이다. "
   ]
  }
 ],
 "metadata": {
  "kernelspec": {
   "display_name": "Python 3",
   "language": "python",
   "name": "python3"
  },
  "language_info": {
   "codemirror_mode": {
    "name": "ipython",
    "version": 3
   },
   "file_extension": ".py",
   "mimetype": "text/x-python",
   "name": "python",
   "nbconvert_exporter": "python",
   "pygments_lexer": "ipython3",
   "version": "3.7.1"
  }
 },
 "nbformat": 4,
 "nbformat_minor": 2
}
